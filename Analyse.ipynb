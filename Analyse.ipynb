{
 "cells": [
  {
   "cell_type": "code",
   "execution_count": 26,
   "id": "9460f9ab",
   "metadata": {},
   "outputs": [],
   "source": [
    "import pandas as pd\n",
    "import numpy as np\n",
    "import datetime\n",
    "import matplotlib.pyplot as plt\n",
    "import matplotlib.ticker as ticker\n",
    "\n",
    "clients_id = pd.read_csv(\"./clients_id_c.csv\")\n",
    "products_id = pd.read_csv(\"./products_id_c.csv\")\n",
    "transactions = pd.read_csv(\"./transactions_c.csv\")"
   ]
  },
  {
   "cell_type": "raw",
   "id": "ec563e78",
   "metadata": {},
   "source": [
    "fusion des tableau"
   ]
  },
  {
   "cell_type": "code",
   "execution_count": 13,
   "id": "1631a15a",
   "metadata": {},
   "outputs": [
    {
     "data": {
      "text/html": [
       "<div>\n",
       "<style scoped>\n",
       "    .dataframe tbody tr th:only-of-type {\n",
       "        vertical-align: middle;\n",
       "    }\n",
       "\n",
       "    .dataframe tbody tr th {\n",
       "        vertical-align: top;\n",
       "    }\n",
       "\n",
       "    .dataframe thead th {\n",
       "        text-align: right;\n",
       "    }\n",
       "</style>\n",
       "<table border=\"1\" class=\"dataframe\">\n",
       "  <thead>\n",
       "    <tr style=\"text-align: right;\">\n",
       "      <th></th>\n",
       "      <th>session_id</th>\n",
       "      <th>date</th>\n",
       "      <th>client_id</th>\n",
       "      <th>sex</th>\n",
       "      <th>birth</th>\n",
       "      <th>id_prod</th>\n",
       "      <th>price</th>\n",
       "      <th>categ</th>\n",
       "    </tr>\n",
       "  </thead>\n",
       "  <tbody>\n",
       "    <tr>\n",
       "      <th>0</th>\n",
       "      <td>s_18746</td>\n",
       "      <td>2021-04-10 18:37:28.723910</td>\n",
       "      <td>c_4450</td>\n",
       "      <td>f</td>\n",
       "      <td>1977</td>\n",
       "      <td>0_1483</td>\n",
       "      <td>4.99</td>\n",
       "      <td>0</td>\n",
       "    </tr>\n",
       "    <tr>\n",
       "      <th>1</th>\n",
       "      <td>s_140787</td>\n",
       "      <td>2021-12-27 11:11:12.123067</td>\n",
       "      <td>c_5433</td>\n",
       "      <td>f</td>\n",
       "      <td>1981</td>\n",
       "      <td>0_1483</td>\n",
       "      <td>4.99</td>\n",
       "      <td>0</td>\n",
       "    </tr>\n",
       "    <tr>\n",
       "      <th>2</th>\n",
       "      <td>s_110736</td>\n",
       "      <td>2021-10-27 04:56:38.293970</td>\n",
       "      <td>c_857</td>\n",
       "      <td>m</td>\n",
       "      <td>1985</td>\n",
       "      <td>0_1483</td>\n",
       "      <td>4.99</td>\n",
       "      <td>0</td>\n",
       "    </tr>\n",
       "    <tr>\n",
       "      <th>3</th>\n",
       "      <td>s_57626</td>\n",
       "      <td>2021-07-04 06:43:45.676567</td>\n",
       "      <td>c_3679</td>\n",
       "      <td>f</td>\n",
       "      <td>1989</td>\n",
       "      <td>0_1483</td>\n",
       "      <td>4.99</td>\n",
       "      <td>0</td>\n",
       "    </tr>\n",
       "    <tr>\n",
       "      <th>4</th>\n",
       "      <td>s_92165</td>\n",
       "      <td>2021-09-19 08:45:43.735331</td>\n",
       "      <td>c_1609</td>\n",
       "      <td>m</td>\n",
       "      <td>1980</td>\n",
       "      <td>0_1483</td>\n",
       "      <td>4.99</td>\n",
       "      <td>0</td>\n",
       "    </tr>\n",
       "  </tbody>\n",
       "</table>\n",
       "</div>"
      ],
      "text/plain": [
       "  session_id                        date client_id sex  birth id_prod  price  \\\n",
       "0    s_18746  2021-04-10 18:37:28.723910    c_4450   f   1977  0_1483   4.99   \n",
       "1   s_140787  2021-12-27 11:11:12.123067    c_5433   f   1981  0_1483   4.99   \n",
       "2   s_110736  2021-10-27 04:56:38.293970     c_857   m   1985  0_1483   4.99   \n",
       "3    s_57626  2021-07-04 06:43:45.676567    c_3679   f   1989  0_1483   4.99   \n",
       "4    s_92165  2021-09-19 08:45:43.735331    c_1609   m   1980  0_1483   4.99   \n",
       "\n",
       "   categ  \n",
       "0      0  \n",
       "1      0  \n",
       "2      0  \n",
       "3      0  \n",
       "4      0  "
      ]
     },
     "metadata": {},
     "output_type": "display_data"
    }
   ],
   "source": [
    "merge_table = pd.merge(transactions, clients_id, on=\"client_id\")\n",
    "merge_table = pd.merge(merge_table, products_id, on=\"id_prod\")\n",
    "merge_table = merge_table.reindex(columns= [\"session_id\", \"date\", \"client_id\", \"sex\", \"birth\", \"id_prod\", \"price\", \"categ\"])\n",
    "display(merge_table.head())"
   ]
  },
  {
   "cell_type": "raw",
   "id": "dda51f63",
   "metadata": {},
   "source": [
    "Récupération des valeurs centrals et de dispersion"
   ]
  },
  {
   "cell_type": "code",
   "execution_count": 14,
   "id": "d18eaef7",
   "metadata": {},
   "outputs": [
    {
     "data": {
      "text/html": [
       "<div>\n",
       "<style scoped>\n",
       "    .dataframe tbody tr th:only-of-type {\n",
       "        vertical-align: middle;\n",
       "    }\n",
       "\n",
       "    .dataframe tbody tr th {\n",
       "        vertical-align: top;\n",
       "    }\n",
       "\n",
       "    .dataframe thead th {\n",
       "        text-align: right;\n",
       "    }\n",
       "</style>\n",
       "<table border=\"1\" class=\"dataframe\">\n",
       "  <thead>\n",
       "    <tr style=\"text-align: right;\">\n",
       "      <th></th>\n",
       "      <th>session_id</th>\n",
       "      <th>date</th>\n",
       "      <th>client_id</th>\n",
       "      <th>sex</th>\n",
       "      <th>birth</th>\n",
       "      <th>id_prod</th>\n",
       "      <th>price</th>\n",
       "      <th>categ</th>\n",
       "    </tr>\n",
       "  </thead>\n",
       "  <tbody>\n",
       "    <tr>\n",
       "      <th>count</th>\n",
       "      <td>336713</td>\n",
       "      <td>336713</td>\n",
       "      <td>336713</td>\n",
       "      <td>336713</td>\n",
       "      <td>336713.00</td>\n",
       "      <td>336713</td>\n",
       "      <td>336713.00</td>\n",
       "      <td>336713.00</td>\n",
       "    </tr>\n",
       "    <tr>\n",
       "      <th>unique</th>\n",
       "      <td>169173</td>\n",
       "      <td>336713</td>\n",
       "      <td>8600</td>\n",
       "      <td>2</td>\n",
       "      <td>NaN</td>\n",
       "      <td>3264</td>\n",
       "      <td>NaN</td>\n",
       "      <td>NaN</td>\n",
       "    </tr>\n",
       "    <tr>\n",
       "      <th>top</th>\n",
       "      <td>s_118668</td>\n",
       "      <td>2021-04-10 18:37:28.723910</td>\n",
       "      <td>c_1609</td>\n",
       "      <td>m</td>\n",
       "      <td>NaN</td>\n",
       "      <td>1_369</td>\n",
       "      <td>NaN</td>\n",
       "      <td>NaN</td>\n",
       "    </tr>\n",
       "    <tr>\n",
       "      <th>freq</th>\n",
       "      <td>14</td>\n",
       "      <td>1</td>\n",
       "      <td>12855</td>\n",
       "      <td>169198</td>\n",
       "      <td>NaN</td>\n",
       "      <td>1081</td>\n",
       "      <td>NaN</td>\n",
       "      <td>NaN</td>\n",
       "    </tr>\n",
       "    <tr>\n",
       "      <th>mean</th>\n",
       "      <td>NaN</td>\n",
       "      <td>NaN</td>\n",
       "      <td>NaN</td>\n",
       "      <td>NaN</td>\n",
       "      <td>1977.82</td>\n",
       "      <td>NaN</td>\n",
       "      <td>17.22</td>\n",
       "      <td>0.43</td>\n",
       "    </tr>\n",
       "    <tr>\n",
       "      <th>std</th>\n",
       "      <td>NaN</td>\n",
       "      <td>NaN</td>\n",
       "      <td>NaN</td>\n",
       "      <td>NaN</td>\n",
       "      <td>13.52</td>\n",
       "      <td>NaN</td>\n",
       "      <td>17.86</td>\n",
       "      <td>0.59</td>\n",
       "    </tr>\n",
       "    <tr>\n",
       "      <th>min</th>\n",
       "      <td>NaN</td>\n",
       "      <td>NaN</td>\n",
       "      <td>NaN</td>\n",
       "      <td>NaN</td>\n",
       "      <td>1929.00</td>\n",
       "      <td>NaN</td>\n",
       "      <td>0.62</td>\n",
       "      <td>0.00</td>\n",
       "    </tr>\n",
       "    <tr>\n",
       "      <th>25%</th>\n",
       "      <td>NaN</td>\n",
       "      <td>NaN</td>\n",
       "      <td>NaN</td>\n",
       "      <td>NaN</td>\n",
       "      <td>1971.00</td>\n",
       "      <td>NaN</td>\n",
       "      <td>8.61</td>\n",
       "      <td>0.00</td>\n",
       "    </tr>\n",
       "    <tr>\n",
       "      <th>50%</th>\n",
       "      <td>NaN</td>\n",
       "      <td>NaN</td>\n",
       "      <td>NaN</td>\n",
       "      <td>NaN</td>\n",
       "      <td>1980.00</td>\n",
       "      <td>NaN</td>\n",
       "      <td>13.90</td>\n",
       "      <td>0.00</td>\n",
       "    </tr>\n",
       "    <tr>\n",
       "      <th>75%</th>\n",
       "      <td>NaN</td>\n",
       "      <td>NaN</td>\n",
       "      <td>NaN</td>\n",
       "      <td>NaN</td>\n",
       "      <td>1987.00</td>\n",
       "      <td>NaN</td>\n",
       "      <td>18.99</td>\n",
       "      <td>1.00</td>\n",
       "    </tr>\n",
       "    <tr>\n",
       "      <th>max</th>\n",
       "      <td>NaN</td>\n",
       "      <td>NaN</td>\n",
       "      <td>NaN</td>\n",
       "      <td>NaN</td>\n",
       "      <td>2004.00</td>\n",
       "      <td>NaN</td>\n",
       "      <td>300.00</td>\n",
       "      <td>2.00</td>\n",
       "    </tr>\n",
       "  </tbody>\n",
       "</table>\n",
       "</div>"
      ],
      "text/plain": [
       "       session_id                        date client_id     sex      birth  \\\n",
       "count      336713                      336713    336713  336713  336713.00   \n",
       "unique     169173                      336713      8600       2        NaN   \n",
       "top      s_118668  2021-04-10 18:37:28.723910    c_1609       m        NaN   \n",
       "freq           14                           1     12855  169198        NaN   \n",
       "mean          NaN                         NaN       NaN     NaN    1977.82   \n",
       "std           NaN                         NaN       NaN     NaN      13.52   \n",
       "min           NaN                         NaN       NaN     NaN    1929.00   \n",
       "25%           NaN                         NaN       NaN     NaN    1971.00   \n",
       "50%           NaN                         NaN       NaN     NaN    1980.00   \n",
       "75%           NaN                         NaN       NaN     NaN    1987.00   \n",
       "max           NaN                         NaN       NaN     NaN    2004.00   \n",
       "\n",
       "       id_prod      price      categ  \n",
       "count   336713  336713.00  336713.00  \n",
       "unique    3264        NaN        NaN  \n",
       "top      1_369        NaN        NaN  \n",
       "freq      1081        NaN        NaN  \n",
       "mean       NaN      17.22       0.43  \n",
       "std        NaN      17.86       0.59  \n",
       "min        NaN       0.62       0.00  \n",
       "25%        NaN       8.61       0.00  \n",
       "50%        NaN      13.90       0.00  \n",
       "75%        NaN      18.99       1.00  \n",
       "max        NaN     300.00       2.00  "
      ]
     },
     "execution_count": 14,
     "metadata": {},
     "output_type": "execute_result"
    }
   ],
   "source": [
    "merge_table.describe(include=\"all\").round(2)"
   ]
  },
  {
   "cell_type": "code",
   "execution_count": 12,
   "id": "a023100d",
   "metadata": {},
   "outputs": [
    {
     "name": "stdout",
     "output_type": "stream",
     "text": [
      "CV de Birth : 0.0068380383005711394\n",
      "CV de Price : 1.0371913943019737\n"
     ]
    }
   ],
   "source": [
    "print(\"CV de Birth :\", merge_table[\"birth\"].std()/merge_table[\"birth\"].mean())\n",
    "print(\"CV de Price :\", merge_table[\"price\"].std()/merge_table[\"price\"].mean())"
   ]
  },
  {
   "cell_type": "markdown",
   "id": "dbbc121a",
   "metadata": {},
   "source": [
    "# Representation graphique"
   ]
  },
  {
   "cell_type": "raw",
   "id": "c26e4eb2",
   "metadata": {},
   "source": [
    "distribution des sex "
   ]
  },
  {
   "cell_type": "code",
   "execution_count": 22,
   "id": "655f4bb9",
   "metadata": {},
   "outputs": [
    {
     "data": {
      "image/png": "[encoded data removed]",
      "text/plain": [
       "<Figure size 640x480 with 1 Axes>"
      ]
     },
     "metadata": {},
     "output_type": "display_data"
    }
   ],
   "source": [
    "merge_table[\"sex\"].value_counts(normalize=True).plot(kind='pie', autopct='%.1f%%')\n",
    "plt.axis('equal') \n",
    "plt.show() # Affiche le graphique"
   ]
  },
  {
   "cell_type": "raw",
   "id": "85063380",
   "metadata": {},
   "source": [
    "distribution des categories"
   ]
  },
  {
   "cell_type": "code",
   "execution_count": 23,
   "id": "f7411251",
   "metadata": {},
   "outputs": [
    {
     "data": {
      "image/png": "[encoded data removed]",
      "text/plain": [
       "<Figure size 640x480 with 1 Axes>"
      ]
     },
     "metadata": {},
     "output_type": "display_data"
    }
   ],
   "source": [
    "merge_table[\"categ\"].value_counts(normalize=True).plot(kind='pie', autopct='%.1f%%')\n",
    "plt.axis('equal') \n",
    "plt.show() # Affiche le graphique"
   ]
  },
  {
   "cell_type": "raw",
   "id": "4c14720f",
   "metadata": {},
   "source": [
    "distribution des ages"
   ]
  },
  {
   "cell_type": "code",
   "execution_count": 34,
   "id": "02851922",
   "metadata": {},
   "outputs": [
    {
     "data": {
      "image/png": "[encoded data removed]",
      "text/plain": [
       "<Figure size 640x480 with 1 Axes>"
      ]
     },
     "metadata": {},
     "output_type": "display_data"
    }
   ],
   "source": [
    "merge_table[\"birth\"].value_counts(normalize=True).sort_index().plot(kind='bar',width=0.5)\n",
    "ax = plt.gca()\n",
    "ax.xaxis.set_major_locator(ticker.MultipleLocator(base=5))\n",
    "plt.show()"
   ]
  },
  {
   "cell_type": "raw",
   "id": "b8ef27d0",
   "metadata": {},
   "source": [
    "Distribution des produits vendue"
   ]
  },
  {
   "cell_type": "code",
   "execution_count": 40,
   "id": "08ea311c",
   "metadata": {},
   "outputs": [
    {
     "data": {
      "image/png": "[encoded data removed]",
      "text/plain": [
       "<Figure size 640x480 with 1 Axes>"
      ]
     },
     "metadata": {},
     "output_type": "display_data"
    }
   ],
   "source": [
    "merge_table[\"id_prod\"].value_counts(normalize=True).head(20).plot(kind='bar',width=0.5)\n",
    "plt.show()"
   ]
  },
  {
   "cell_type": "raw",
   "id": "5caa0162",
   "metadata": {},
   "source": []
  },
  {
   "cell_type": "code",
   "execution_count": null,
   "id": "30ed313b",
   "metadata": {},
   "outputs": [],
   "source": []
  }
 ],
 "metadata": {
  "kernelspec": {
   "display_name": "Python 3 (ipykernel)",
   "language": "python",
   "name": "python3"
  },
  "language_info": {
   "codemirror_mode": {
    "name": "ipython",
    "version": 3
   },
   "file_extension": ".py",
   "mimetype": "text/x-python",
   "name": "python",
   "nbconvert_exporter": "python",
   "pygments_lexer": "ipython3",
   "version": "3.11.3"
  }
 },
 "nbformat": 4,
 "nbformat_minor": 5
}
